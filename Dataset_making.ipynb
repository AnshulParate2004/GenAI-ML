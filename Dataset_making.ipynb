{
  "nbformat": 4,
  "nbformat_minor": 0,
  "metadata": {
    "colab": {
      "provenance": []
    },
    "kernelspec": {
      "name": "python3",
      "display_name": "Python 3"
    },
    "language_info": {
      "name": "python"
    }
  },
  "cells": [
    {
      "cell_type": "code",
      "execution_count": null,
      "metadata": {
        "colab": {
          "base_uri": "https://localhost:8080/"
        },
        "id": "1TMoadm67uPE",
        "outputId": "86385d9d-a0bc-47db-a787-4a0dde457b8d"
      },
      "outputs": [
        {
          "output_type": "stream",
          "name": "stdout",
          "text": [
            "FER2013 extracted folders: ['test', 'train']\n"
          ]
        }
      ],
      "source": [
        "import os\n",
        "import shutil\n",
        "import random\n",
        "from zipfile import ZipFile\n",
        "\n",
        "# ---------------- Paths ----------------\n",
        "fer_zip = \"/content/FER 2013 Dataset.zip\"  # your uploaded FER2013 zip\n",
        "fer_path = \"/content/fer\"                  # extracted FER2013\n",
        "oahega_path = \"/kaggle/input/oahega-emotion/OAHEGA_EMOTION\"  # OAHEGA path\n",
        "final_dataset = \"/content/final_dataset\"\n",
        "\n",
        "# ---------------- Emotions ----------------\n",
        "emotions = [\"angry\", \"disgust\", \"fear\", \"happy\", \"sad\", \"surprise\", \"neutral\"]\n",
        "\n",
        "# ---------------- Step 0: Clean previous folders ----------------\n",
        "for path in [fer_path, final_dataset]:\n",
        "    if os.path.exists(path):\n",
        "        shutil.rmtree(path)\n",
        "\n",
        "# ---------------- Step 1: Extract FER2013 zip ----------------\n",
        "with ZipFile(fer_zip, 'r') as zip_ref:\n",
        "    zip_ref.extractall(fer_path)\n",
        "\n",
        "# Check structure\n",
        "print(\"FER2013 extracted folders:\", os.listdir(fer_path))"
      ]
    },
    {
      "cell_type": "code",
      "source": [
        "import kagglehub\n",
        "\n",
        "# Download latest version\n",
        "path = kagglehub.dataset_download(\"alexa1979/oahega-emotion\")\n",
        "\n",
        "print(\"Path to dataset files:\", path)"
      ],
      "metadata": {
        "colab": {
          "base_uri": "https://localhost:8080/"
        },
        "id": "7H85crUq-EjW",
        "outputId": "2fec2ab0-1788-44e7-e832-63a4ccc6c5a9"
      },
      "execution_count": null,
      "outputs": [
        {
          "output_type": "stream",
          "name": "stdout",
          "text": [
            "Warning: Looks like you're using an outdated `kagglehub` version (installed: 0.3.12), please consider upgrading to the latest version (0.3.13).\n",
            "Downloading from https://www.kaggle.com/api/v1/datasets/download/alexa1979/oahega-emotion?dataset_version_number=1...\n"
          ]
        },
        {
          "output_type": "stream",
          "name": "stderr",
          "text": [
            "100%|██████████| 1.98G/1.98G [00:19<00:00, 112MB/s]"
          ]
        },
        {
          "output_type": "stream",
          "name": "stdout",
          "text": [
            "Extracting files...\n"
          ]
        },
        {
          "output_type": "stream",
          "name": "stderr",
          "text": [
            "\n"
          ]
        },
        {
          "output_type": "stream",
          "name": "stdout",
          "text": [
            "Path to dataset files: /root/.cache/kagglehub/datasets/alexa1979/oahega-emotion/versions/1\n"
          ]
        }
      ]
    },
    {
      "cell_type": "code",
      "source": [
        "# ---------------- Step 2: Create final dataset folders ----------------\n",
        "for split in [\"train\", \"test\"]:\n",
        "    for emotion in emotions:\n",
        "        os.makedirs(os.path.join(final_dataset, split, emotion), exist_ok=True)\n"
      ],
      "metadata": {
        "id": "bQHFUBjR9gY8"
      },
      "execution_count": null,
      "outputs": []
    },
    {
      "cell_type": "code",
      "source": [
        "# ---------------- Step 3: Copy OAHEGA images and split 80/20 ----------------\n",
        "random.seed(42)\n",
        "oahega_source = \"/root/.cache/kagglehub/datasets/alexa1979/oahega-emotion/versions/1/OAHEGA_EMOTION\"\n",
        "\n",
        "for emotion in os.listdir(oahega_source):\n",
        "    if emotion.strip().lower() not in emotions:\n",
        "        continue  # skip 'Ahegao'\n",
        "    src = os.path.join(oahega_source, emotion)\n",
        "    files = os.listdir(src)\n",
        "    random.shuffle(files)\n",
        "    split_idx = int(0.8 * len(files))\n",
        "    train_files = files[:split_idx]\n",
        "    test_files = files[split_idx:]\n",
        "\n",
        "    for f in train_files:\n",
        "        shutil.copy(os.path.join(src, f),\n",
        "                    os.path.join(final_dataset, \"train\", emotion.lower(), f\"oahega_{f}\"))\n",
        "    for f in test_files:\n",
        "        shutil.copy(os.path.join(src, f),\n",
        "                    os.path.join(final_dataset, \"test\", emotion.lower(), f\"oahega_{f}\"))\n",
        "\n",
        "# ---------------- Step 4: Verify counts ----------------\n",
        "for split in [\"train\", \"test\"]:\n",
        "    print(f\"\\n{split.upper()} DATASET (OAHEGA only):\")\n",
        "    for emotion in emotions:\n",
        "        folder = os.path.join(final_dataset, split, emotion)\n",
        "        print(f\"{emotion}: {len(os.listdir(folder))}\")\n",
        "\n",
        "# ---------------- Step 5: Show folder structure ----------------\n",
        "for split in [\"train\", \"test\"]:\n",
        "    print(f\"\\n{split.upper()} folder contents:\")\n",
        "    for emotion in emotions:\n",
        "        folder = os.path.join(final_dataset, split, emotion)\n",
        "        print(f\"{emotion}:\", os.listdir(folder)[:5], \"...\")  # show first 5 files as example"
      ],
      "metadata": {
        "colab": {
          "base_uri": "https://localhost:8080/"
        },
        "id": "J0Z8NLjz9jrA",
        "outputId": "427dfc65-2c80-47c8-cb76-d12a4fc18099"
      },
      "execution_count": null,
      "outputs": [
        {
          "output_type": "stream",
          "name": "stdout",
          "text": [
            "\n",
            "TRAIN DATASET (OAHEGA only):\n",
            "angry: 1122\n",
            "disgust: 0\n",
            "fear: 0\n",
            "happy: 3253\n",
            "sad: 3065\n",
            "surprise: 1006\n",
            "neutral: 3254\n",
            "\n",
            "TEST DATASET (OAHEGA only):\n",
            "angry: 281\n",
            "disgust: 0\n",
            "fear: 0\n",
            "happy: 814\n",
            "sad: 767\n",
            "surprise: 252\n",
            "neutral: 814\n",
            "\n",
            "TRAIN folder contents:\n",
            "angry: ['oahega_4a512439677f71d0a8d9d38f501ca8fd86298e83afeba66b08c2347b~angry.jpg', 'oahega_cropped_emotions.158092~angry.png', 'oahega_3702b95244ce006aa91a9fab38f74433019c18f4339f9fff1001d97a~angry.jpg', 'oahega_cropped_emotions.231936~angry.png', 'oahega_cropped_emotions.506342~angry.png'] ...\n",
            "disgust: [] ...\n",
            "fear: [] ...\n",
            "happy: ['oahega_0a4e642ce4e4bd910bb6f66eb4d239cd01656e90e363866a980b8721.png', 'oahega_0d5284da01601fb47a90bbaf77b4dc27d0e2016536f3960a09889060.jpg', 'oahega_0a8e3ee9d2681025c62671ddbc42726459a8ac3804775baad6166e05.jpg', 'oahega_1d27791994cf5640edcf1c79c78c87f01be86074293b2aac1e40df3b.jpg', 'oahega_cropped_emotions.398588.png'] ...\n",
            "sad: ['oahega_6d4dbd3ce482e0a1e52da78d7004fc809b89c61d09c0a26f9e7f3cbf.jpg', 'oahega_0ceb1ac5a68d0d3db01b7c66f6fec2d66f02fcfe252bbf731340244a.jpg', 'oahega_7ec551c3061fea83555887d01cf89132171734e225dc2bb729fe47c8.jpg', 'oahega_cropped_emotions.5629.png', 'oahega_0c49c5bc60e671961775280e6d816cea998bc0920fed4bdb9c7398a2.jpg'] ...\n",
            "surprise: ['oahega_cropped_emotions.414939~12fffff.png', 'oahega_0d3cacd3c79f62b2a6e7544c2c1e7ee768ba33ace31aacd95c6d63f8~12fffff.jpg', 'oahega_cropped_emotions.263185~12fffff.png', 'oahega_cropped_emotions.262458~12fffff.png', 'oahega_0e0448eae102baed45e59d36a38a793c0d93c6e07e6e0e2ae11eba22~12fffff.jpeg'] ...\n",
            "neutral: ['oahega_cropped_emotions.277583f.png', 'oahega_0cd1e63f6274cffe9cd086acf886e7a2e25455293460087c662ebbfaf.JPG', 'oahega_1a0328ace04108d6501f9d18541230826e756f55d41377588b8d67a5f.jpg', 'oahega_0e0b80e5560ca295b2f668241edadc602732eafd56c2448a0597a1f4f.jpg', 'oahega_cropped_emotions.278415f.png'] ...\n",
            "\n",
            "TEST folder contents:\n",
            "angry: ['oahega_cropped_emotions.231892~angry.png', 'oahega_5bf9fe2c90e6cead7a2737743fbf3356bc0b20a952df07797e6136b2~angry.jpg', 'oahega_cropped_emotions.232146~angry.png', 'oahega_cropped_emotions.158044~angry.png', 'oahega_cropped_emotions.231803~angry.png'] ...\n",
            "disgust: [] ...\n",
            "fear: [] ...\n",
            "happy: ['oahega_2a029300d72c1cf5c2944cc223e23e6e1ea41bbfa7fbd51b13228c84.jpg', 'oahega_0aa226f2fb0443be53c1f9c0ebce6acc8ddf9f00878da82cff92d3d6.jpg', 'oahega_cropped_emotions.506149.png', 'oahega_0af25d8cdc0724b8f6182a81b7a8c643e213114d89bc263ccab8039d.jpg', 'oahega_3bdf9b57e716fa0867410aa0ad10cb950e45a3ddd5c513bbf67668bf.jpeg'] ...\n",
            "sad: ['oahega_6fe0dd3508137acff1031170aa55233ddedab432014b6a5b8c84bba2.png', 'oahega_cropped_emotions.5706.png', 'oahega_2e0d7fa3337066ea0c0150863ffc045171a4a3dde84cff2a8378177a.jpg', 'oahega_cropped_emotions.5943.png', 'oahega_5aa94b526650971f4b0e347c0756fa7a4a9ae51ef9a714c20e8c0e24.jpg'] ...\n",
            "surprise: ['oahega_0bff78216369acf844f5fe5a79262e3de0b03aae090cdc92f9d5c270~12fffff.jpg', 'oahega_cropped_emotions.260809~12fffff.png', 'oahega_cropped_emotions.100165~12fffff.png', 'oahega_cropped_emotions.264853~12fffff.png', 'oahega_cropped_emotions.260480~12fffff.png'] ...\n",
            "neutral: ['oahega_0b92645aeb78c14da83f8c03e1387aa7b18ddc69f5fd0c7d6d362444f.jpg', 'oahega_1b2c347068009dafee64617c7c73c06ffc26650dc0402450fd0edefdf.jpg', 'oahega_00af8684e9821ddc4ba063d7259d7eff98d775620c8fa9648390e3bbf.jpg', 'oahega_0b549467f98d2913a6027cfed3ae69094edef1a4430fb01a4d4c2d0ff.jpg', 'oahega_0de75986020678b43413a304cfa15b3344141be9245c2400fd486f0cf.jpg'] ...\n"
          ]
        }
      ]
    },
    {
      "cell_type": "code",
      "source": [
        "# ---------------- Step 6: Copy FER2013 images ----------------\n",
        "for split in [\"train\", \"test\"]:\n",
        "    split_path = os.path.join(fer_path, split)\n",
        "    for emotion in os.listdir(split_path):\n",
        "        emotion_lower = emotion.strip().lower()\n",
        "        if emotion_lower not in emotions:\n",
        "            continue\n",
        "        src = os.path.join(split_path, emotion)\n",
        "        dst = os.path.join(final_dataset, split, emotion_lower)\n",
        "        for f in os.listdir(src):\n",
        "            shutil.copy(os.path.join(src, f),\n",
        "                        os.path.join(dst, f\"fer_{f}\"))\n",
        "\n",
        "# ---------------- Step 2: Verify counts ----------------\n",
        "for split in [\"train\", \"test\"]:\n",
        "    print(f\"\\n{split.upper()} DATASET (OAHEGA + FER2013):\")\n",
        "    for emotion in emotions:\n",
        "        folder = os.path.join(final_dataset, split, emotion)\n",
        "        print(f\"{emotion}: {len(os.listdir(folder))}\")"
      ],
      "metadata": {
        "colab": {
          "base_uri": "https://localhost:8080/"
        },
        "id": "EE7PWshK9xzT",
        "outputId": "9bd4b49a-704c-44f2-f3a6-64900a1eaa64"
      },
      "execution_count": null,
      "outputs": [
        {
          "output_type": "stream",
          "name": "stdout",
          "text": [
            "\n",
            "TRAIN DATASET (OAHEGA + FER2013):\n",
            "angry: 5117\n",
            "disgust: 436\n",
            "fear: 4097\n",
            "happy: 10468\n",
            "sad: 7895\n",
            "surprise: 4177\n",
            "neutral: 8219\n",
            "\n",
            "TEST DATASET (OAHEGA + FER2013):\n",
            "angry: 1239\n",
            "disgust: 111\n",
            "fear: 1024\n",
            "happy: 2588\n",
            "sad: 2014\n",
            "surprise: 1083\n",
            "neutral: 2047\n"
          ]
        }
      ]
    },
    {
      "cell_type": "code",
      "source": [
        "import shutil\n",
        "\n",
        "# Path to final dataset\n",
        "final_dataset = \"/content/final_dataset\"\n",
        "zip_path = \"/content/final_dataset.zip\"\n",
        "\n",
        "# Create a zip archive\n",
        "shutil.make_archive(base_name=zip_path.replace('.zip',''), format='zip', root_dir=final_dataset)\n",
        "\n",
        "print(f\"Final dataset zipped successfully: {zip_path}\")\n"
      ],
      "metadata": {
        "colab": {
          "base_uri": "https://localhost:8080/"
        },
        "id": "PGaqX_n7_8KV",
        "outputId": "89f81151-69d4-4469-9778-f6cd5d383ded"
      },
      "execution_count": null,
      "outputs": [
        {
          "output_type": "stream",
          "name": "stdout",
          "text": [
            "Final dataset zipped successfully: /content/final_dataset.zip\n"
          ]
        }
      ]
    },
    {
      "cell_type": "code",
      "source": [
        "from google.colab import drive\n",
        "drive.mount('/content/drive')\n",
        "\n",
        "# Copy to your Drive\n",
        "!cp /content/final_dataset.zip /content/drive/MyDrive/\n"
      ],
      "metadata": {
        "id": "9gQlvTYSARdN",
        "colab": {
          "base_uri": "https://localhost:8080/"
        },
        "outputId": "3ecb5c22-f784-404c-df35-72b40a92776e"
      },
      "execution_count": 13,
      "outputs": [
        {
          "output_type": "stream",
          "name": "stdout",
          "text": [
            "Mounted at /content/drive\n"
          ]
        }
      ]
    },
    {
      "cell_type": "code",
      "source": [],
      "metadata": {
        "id": "Tbb95IS5Bqaa"
      },
      "execution_count": null,
      "outputs": []
    }
  ]
}