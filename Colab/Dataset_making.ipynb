{
  "nbformat": 4,
  "nbformat_minor": 0,
  "metadata": {
    "colab": {
      "provenance": []
    },
    "kernelspec": {
      "name": "python3",
      "display_name": "Python 3"
    },
    "language_info": {
      "name": "python"
    }
  },
  "cells": [
    {
      "cell_type": "code",
      "execution_count": null,
      "metadata": {
        "colab": {
          "base_uri": "https://localhost:8080/"
        },
        "id": "1TMoadm67uPE",
        "outputId": "6e0eb998-79bd-43cc-db10-4ef24210a5d5"
      },
      "outputs": [
        {
          "output_type": "stream",
          "name": "stdout",
          "text": [
            "FER2013 extracted folders: ['test', 'train']\n"
          ]
        }
      ],
      "source": [
        "import os\n",
        "import shutil\n",
        "import random\n",
        "from zipfile import ZipFile\n",
        "\n",
        "# ---------------- Paths ----------------\n",
        "fer_zip = \"/content/FER 2013 Dataset.zip\"  # your uploaded FER2013 zip\n",
        "fer_path = \"/content/fer\"                  # extracted FER2013\n",
        "oahega_path = \"/kaggle/input/oahega-emotion/OAHEGA_EMOTION\"  # OAHEGA path\n",
        "final_dataset = \"/content/final_dataset\"\n",
        "\n",
        "# ---------------- Emotions ----------------\n",
        "emotions = [\"angry\", \"disgust\", \"fear\", \"happy\", \"sad\", \"surprise\", \"neutral\"]\n",
        "\n",
        "# ---------------- Step 0: Clean previous folders ----------------\n",
        "for path in [fer_path, final_dataset]:\n",
        "    if os.path.exists(path):\n",
        "        shutil.rmtree(path)\n",
        "\n",
        "# ---------------- Step 1: Extract FER2013 zip ----------------\n",
        "with ZipFile(fer_zip, 'r') as zip_ref:\n",
        "    zip_ref.extractall(fer_path)\n",
        "\n",
        "# Check structure\n",
        "print(\"FER2013 extracted folders:\", os.listdir(fer_path))"
      ]
    },
    {
      "cell_type": "code",
      "source": [
        "import kagglehub\n",
        "\n",
        "# Download latest version\n",
        "path = kagglehub.dataset_download(\"alexa1979/oahega-emotion\")\n",
        "\n",
        "print(\"Path to dataset files:\", path)"
      ],
      "metadata": {
        "colab": {
          "base_uri": "https://localhost:8080/"
        },
        "id": "7H85crUq-EjW",
        "outputId": "82a7ae01-9928-49a8-fc1c-77fbc57a3b60"
      },
      "execution_count": null,
      "outputs": [
        {
          "output_type": "stream",
          "name": "stdout",
          "text": [
            "Warning: Looks like you're using an outdated `kagglehub` version (installed: 0.3.12), please consider upgrading to the latest version (0.3.13).\n",
            "Downloading from https://www.kaggle.com/api/v1/datasets/download/alexa1979/oahega-emotion?dataset_version_number=1...\n"
          ]
        },
        {
          "output_type": "stream",
          "name": "stderr",
          "text": [
            "100%|██████████| 1.98G/1.98G [00:22<00:00, 95.9MB/s]"
          ]
        },
        {
          "output_type": "stream",
          "name": "stdout",
          "text": [
            "Extracting files...\n"
          ]
        },
        {
          "output_type": "stream",
          "name": "stderr",
          "text": [
            "\n"
          ]
        },
        {
          "output_type": "stream",
          "name": "stdout",
          "text": [
            "Path to dataset files: /root/.cache/kagglehub/datasets/alexa1979/oahega-emotion/versions/1\n"
          ]
        }
      ]
    },
    {
      "cell_type": "code",
      "source": [
        "# ---------------- Step 2: Create final dataset folders ----------------\n",
        "for split in [\"train\", \"test\"]:\n",
        "    for emotion in emotions:\n",
        "        os.makedirs(os.path.join(final_dataset, split, emotion), exist_ok=True)\n"
      ],
      "metadata": {
        "id": "bQHFUBjR9gY8"
      },
      "execution_count": null,
      "outputs": []
    },
    {
      "cell_type": "code",
      "source": [
        "# ---------------- Step 3: Copy OAHEGA images and split 80/20 ----------------\n",
        "random.seed(42)\n",
        "oahega_source = \"/root/.cache/kagglehub/datasets/alexa1979/oahega-emotion/versions/1/OAHEGA_EMOTION\"\n",
        "\n",
        "for emotion in os.listdir(oahega_source):\n",
        "    if emotion.strip().lower() not in emotions:\n",
        "        continue  # skip 'Ahegao'\n",
        "    src = os.path.join(oahega_source, emotion)\n",
        "    files = os.listdir(src)\n",
        "    random.shuffle(files)\n",
        "    split_idx = int(0.8 * len(files))\n",
        "    train_files = files[:split_idx]\n",
        "    test_files = files[split_idx:]\n",
        "\n",
        "    for f in train_files:\n",
        "        shutil.copy(os.path.join(src, f),\n",
        "                    os.path.join(final_dataset, \"train\", emotion.lower(), f\"oahega_{f}\"))\n",
        "    for f in test_files:\n",
        "        shutil.copy(os.path.join(src, f),\n",
        "                    os.path.join(final_dataset, \"test\", emotion.lower(), f\"oahega_{f}\"))\n",
        "\n",
        "# ---------------- Step 4: Verify counts ----------------\n",
        "for split in [\"train\", \"test\"]:\n",
        "    print(f\"\\n{split.upper()} DATASET (OAHEGA only):\")\n",
        "    for emotion in emotions:\n",
        "        folder = os.path.join(final_dataset, split, emotion)\n",
        "        print(f\"{emotion}: {len(os.listdir(folder))}\")\n",
        "\n",
        "# ---------------- Step 5: Show folder structure ----------------\n",
        "for split in [\"train\", \"test\"]:\n",
        "    print(f\"\\n{split.upper()} folder contents:\")\n",
        "    for emotion in emotions:\n",
        "        folder = os.path.join(final_dataset, split, emotion)\n",
        "        print(f\"{emotion}:\", os.listdir(folder)[:5], \"...\")  # show first 5 files as example"
      ],
      "metadata": {
        "colab": {
          "base_uri": "https://localhost:8080/"
        },
        "id": "J0Z8NLjz9jrA",
        "outputId": "00adc67a-82b2-413d-e12a-0f0e08564aa8"
      },
      "execution_count": null,
      "outputs": [
        {
          "output_type": "stream",
          "name": "stdout",
          "text": [
            "\n",
            "TRAIN DATASET (OAHEGA only):\n",
            "angry: 1122\n",
            "disgust: 0\n",
            "fear: 0\n",
            "happy: 3253\n",
            "sad: 3065\n",
            "surprise: 1006\n",
            "neutral: 3254\n",
            "\n",
            "TEST DATASET (OAHEGA only):\n",
            "angry: 281\n",
            "disgust: 0\n",
            "fear: 0\n",
            "happy: 814\n",
            "sad: 767\n",
            "surprise: 252\n",
            "neutral: 814\n",
            "\n",
            "TRAIN folder contents:\n",
            "angry: ['oahega_bb9094a8ff413cc3f6665f7635eb0bcf9e40cbc758cfd3a74b92bbe7~angry.jpg', 'oahega_cropped_emotions.571194~angry.png', 'oahega_cropped_emotions.231637~angry.png', 'oahega_cropped_emotions.231473~angry.png', 'oahega_cropped_emotions.231718~angry.png'] ...\n",
            "disgust: [] ...\n",
            "fear: [] ...\n",
            "happy: ['oahega_0b661c3ecc88e64168bd1c9bcc9f56369a10c47b5a10a36130a13ef3.jpg', 'oahega_0c8dfd2894e393ba1de49806e136e8eabb7cf4c4bb128a3c9e508565.jpg', 'oahega_0d2b4f1ff6d5fced42d5c61d29d7a34da640a6393070b394ce0b628f.jpg', 'oahega_0af4bcbfce37b9fc4613d80460764c819211717d5ff9e5157085c8b4.jpg', 'oahega_0adb7e96dd29bf3fff14a36dbf0a57c1865b5688782b1519ee36c90d.JPG'] ...\n",
            "sad: ['oahega_1c4f4d75d2460ae0585434bd4c24753a2b0ca4111140ab63289cd652.jpg', 'oahega_8a4680937faf3b95877a4661ae9a65afc88e7f55384c8713bdc1b38f.jpg', 'oahega_cropped_emotions.499320.png', 'oahega_0ed76f34d9eaf4f53b81e419ef927411d0f38c4551c8a244e52f9a65.jpg', 'oahega_4cc7c1af582d974cf6a336c9b839b4331fa5a671eb318fc54c7f5dbf.jpg'] ...\n",
            "surprise: ['oahega_cropped_emotions.267228~12fffff.png', 'oahega_0a4b40612e852d275f18d60b88d4131194fd1c8971c4b3d4938c1d2d~12fffff.JPG', 'oahega_cropped_emotions.414971~12fffff.png', 'oahega_cropped_emotions.100116~12fffff.png', 'oahega_cropped_emotions.262725~12fffff.png'] ...\n",
            "neutral: ['oahega_0cd2a7f2d9f8b9b9f64cbde4868ff27a886457607dd6f2dc2184e775f.jpg', 'oahega_cropped_emotions.277933f.png', 'oahega_0bf6b810260edede22949e177fdcbd8dbfadbda3794081086c1e7be9f.jpg', 'oahega_0c3c1cae8cb28dd7204345e44d261fd00cbb79afa16c9c3f2cc62a33f.jpg', 'oahega_01ab1e0fb30bf62ce65daefff9fb49f1e1adca4459100110c29d929ff.jpg'] ...\n",
            "\n",
            "TEST folder contents:\n",
            "angry: ['oahega_cropped_emotions.571505~angry.png', 'oahega_d9b70de06ac2b3c360aea4a3e925ecad5a710bc470a3514340d44154~angry.jpg', 'oahega_cropped_emotions.231819~angry.png', 'oahega_8b85a0fb2c9ff2d21a28a4dfe79b20d53ffbed5472acff4cf91f80c0~angry.JPG', 'oahega_cropped_emotions.571938~angry.png'] ...\n",
            "disgust: [] ...\n",
            "fear: [] ...\n",
            "happy: ['oahega_0b8ccc1195db40a8573c2148bd9997f1e46051b10f853d36c3b728cd.jpg', 'oahega_cropped_emotions.398497.png', 'oahega_cropped_emotions.398529.png', 'oahega_cropped_emotions.418374.png', 'oahega_cropped_emotions.505789.png'] ...\n",
            "sad: ['oahega_3db8aab76eb1fa280e363e22a38040807ebed61c32cde319ce4db557.jpg', 'oahega_3d2cbaa561685608e72dd94d982d8ffa6594d2209cb25ea598666e49.jpg', 'oahega_2cbdce87550f698c3b2f0aa22ceb8bff80a2df4601535663f5816858.JPG', 'oahega_1c5db74b8e29fccf44ed352428b07038bfe497ae3770da39633a299e.jpg', 'oahega_3b55d4cbfc54a035d1f3f8d55ac432aa73d7ee2bda2ea54e66952af0.jpg'] ...\n",
            "surprise: ['oahega_cropped_emotions.264750~12fffff.png', 'oahega_cropped_emotions.260019~12fffff.png', 'oahega_cropped_emotions.268539~12fffff.png', 'oahega_cropped_emotions.261483~12fffff.png', 'oahega_cropped_emotions.260692~12fffff.png'] ...\n",
            "neutral: ['oahega_0f820544b38ff4c96aeaa171bc5fb53f63beb4ac6e4062e78075d6d2f.jpg', 'oahega_0b716b2f1f426ae43ab198ab168ac9382325801cf9c1d06ddaea0ea1f.JPG', 'oahega_0de6182a657f46247623dd44ca70c129543b46af69a8b66abf645181f.jpg', 'oahega_cropped_emotions.277752f.png', 'oahega_cropped_emotions.171787f.png'] ...\n"
          ]
        }
      ]
    },
    {
      "cell_type": "code",
      "source": [
        "# ---------------- Step 6: Copy FER2013 images ----------------\n",
        "for split in [\"train\", \"test\"]:\n",
        "    split_path = os.path.join(fer_path, split)\n",
        "    for emotion in os.listdir(split_path):\n",
        "        emotion_lower = emotion.strip().lower()\n",
        "        if emotion_lower not in emotions:\n",
        "            continue\n",
        "        src = os.path.join(split_path, emotion)\n",
        "        dst = os.path.join(final_dataset, split, emotion_lower)\n",
        "        for f in os.listdir(src):\n",
        "            shutil.copy(os.path.join(src, f),\n",
        "                        os.path.join(dst, f\"fer_{f}\"))\n",
        "\n",
        "# ---------------- Step 2: Verify counts ----------------\n",
        "for split in [\"train\", \"test\"]:\n",
        "    print(f\"\\n{split.upper()} DATASET (OAHEGA + FER2013):\")\n",
        "    for emotion in emotions:\n",
        "        folder = os.path.join(final_dataset, split, emotion)\n",
        "        print(f\"{emotion}: {len(os.listdir(folder))}\")"
      ],
      "metadata": {
        "colab": {
          "base_uri": "https://localhost:8080/"
        },
        "id": "EE7PWshK9xzT",
        "outputId": "48c7a76b-7699-4359-dc8d-abff3bacec8b"
      },
      "execution_count": null,
      "outputs": [
        {
          "output_type": "stream",
          "name": "stdout",
          "text": [
            "\n",
            "TRAIN DATASET (OAHEGA + FER2013):\n",
            "angry: 5117\n",
            "disgust: 436\n",
            "fear: 4097\n",
            "happy: 10468\n",
            "sad: 7895\n",
            "surprise: 4177\n",
            "neutral: 8219\n",
            "\n",
            "TEST DATASET (OAHEGA + FER2013):\n",
            "angry: 1239\n",
            "disgust: 111\n",
            "fear: 1024\n",
            "happy: 2588\n",
            "sad: 2014\n",
            "surprise: 1083\n",
            "neutral: 2047\n"
          ]
        }
      ]
    },
    {
      "cell_type": "code",
      "source": [
        "import shutil\n",
        "\n",
        "# Path to final dataset\n",
        "final_dataset = \"/content/final_dataset\"\n",
        "zip_path = \"/content/final_dataset.zip\"\n",
        "\n",
        "# Create a zip archive\n",
        "shutil.make_archive(base_name=zip_path.replace('.zip',''), format='zip', root_dir=final_dataset)\n",
        "\n",
        "print(f\"Final dataset zipped successfully: {zip_path}\")\n"
      ],
      "metadata": {
        "colab": {
          "base_uri": "https://localhost:8080/"
        },
        "id": "PGaqX_n7_8KV",
        "outputId": "4c288dd1-2ba8-42eb-ca7f-2e26cc9e7292"
      },
      "execution_count": null,
      "outputs": [
        {
          "output_type": "stream",
          "name": "stdout",
          "text": [
            "Final dataset zipped successfully: /content/final_dataset.zip\n"
          ]
        }
      ]
    },
    {
      "cell_type": "code",
      "source": [
        "from google.colab import drive\n",
        "drive.mount('/content/drive')\n",
        "\n",
        "# Copy to your Drive\n",
        "!cp /content/final_dataset.zip /content/drive/MyDrive/\n"
      ],
      "metadata": {
        "id": "9gQlvTYSARdN",
        "colab": {
          "base_uri": "https://localhost:8080/"
        },
        "outputId": "cb6c270c-4033-4e61-e02a-7b6ca20fd5f3"
      },
      "execution_count": null,
      "outputs": [
        {
          "output_type": "stream",
          "name": "stdout",
          "text": [
            "Mounted at /content/drive\n"
          ]
        }
      ]
    },
    {
      "cell_type": "code",
      "source": [],
      "metadata": {
        "id": "Tbb95IS5Bqaa"
      },
      "execution_count": null,
      "outputs": []
    }
  ]
}